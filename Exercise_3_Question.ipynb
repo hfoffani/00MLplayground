{
  "nbformat": 4,
  "nbformat_minor": 0,
  "metadata": {
    "colab": {
      "name": "Exercise_3_Question.ipynb",
      "version": "0.3.2",
      "provenance": [],
      "collapsed_sections": [],
      "include_colab_link": true
    },
    "kernelspec": {
      "name": "python3",
      "display_name": "Python 3"
    }
  },
  "cells": [
    {
      "cell_type": "markdown",
      "metadata": {
        "id": "view-in-github",
        "colab_type": "text"
      },
      "source": [
        "<a href=\"https://colab.research.google.com/github/hfoffani/00MLplayground/blob/master/Exercise_3_Question.ipynb\" target=\"_parent\"><img src=\"https://colab.research.google.com/assets/colab-badge.svg\" alt=\"Open In Colab\"/></a>"
      ]
    },
    {
      "metadata": {
        "id": "iQjHqsmTAVLU",
        "colab_type": "text"
      },
      "cell_type": "markdown",
      "source": [
        "## Exercise 3\n",
        "In the videos you looked at how you would improve Fashion MNIST using Convolutions. For your exercise see if you can improve MNIST to 99.8% accuracy or more using only a single convolutional layer and a single MaxPooling 2D. You should stop training once the accuracy goes above this amount. It should happen in less than 20 epochs, so it's ok to hard code the number of epochs for training, but your training must end once it hits the above metric. If it doesn't, then you'll need to redesign your layers.\n",
        "\n",
        "I've started the code for you -- you need to finish it!\n",
        "\n",
        "When 99.8% accuracy has been hit, you should print out the string \"Reached 99.8% accuracy so cancelling training!\"\n"
      ]
    },
    {
      "metadata": {
        "id": "sfQRyaJWAIdg",
        "colab_type": "code",
        "colab": {
          "base_uri": "https://localhost:8080/",
          "height": 357
        },
        "outputId": "c1c3a104-d8f2-4273-a25b-5463bd533bc9"
      },
      "cell_type": "code",
      "source": [
        "import tensorflow as tf\n",
        "\n",
        "# YOUR CODE STARTS HERE\n",
        "class EarlyStop(tf.keras.callbacks.Callback):\n",
        "  def on_epoch_end(self, epoch, logs={}):\n",
        "    if(logs.get('acc')>0.998):\n",
        "      print(\"\\nReached 99.8% accuracy so cancelling training!\")\n",
        "      self.model.stop_training = True\n",
        "\n",
        "earlystop = EarlyStop()\n",
        "\n",
        "# YOUR CODE ENDS HERE\n",
        "\n",
        "mnist = tf.keras.datasets.mnist\n",
        "(training_images, training_labels), (test_images, test_labels) = mnist.load_data()\n",
        "\n",
        "# YOUR CODE STARTS HERE\n",
        "training_images=training_images.reshape(60000, 28, 28, 1)\n",
        "training_images=training_images / 255.0\n",
        "test_images = test_images.reshape(10000, 28, 28, 1)\n",
        "test_images=test_images/255.0\n",
        "\n",
        "# YOUR CODE ENDS HERE\n",
        "\n",
        "model = tf.keras.models.Sequential([\n",
        "  # YOUR CODE STARTS HERE\n",
        "  tf.keras.layers.Conv2D(32, (3,3), activation='relu', input_shape=(28, 28, 1)),\n",
        "  tf.keras.layers.MaxPooling2D(2, 2),\n",
        "  tf.keras.layers.Flatten(),\n",
        "  tf.keras.layers.Dense(128, activation='relu'),\n",
        "  tf.keras.layers.Dense(10, activation='softmax')\n",
        "  # YOUR CODE ENDS HERE\n",
        "])\n",
        "\n",
        "# YOUR CODE STARTS HERE\n",
        "model.compile(optimizer='adam', loss='sparse_categorical_crossentropy', metrics=['accuracy'])\n",
        "model.fit(training_images, training_labels, epochs=20, callbacks=[earlystop])\n",
        "model.evaluate(test_images, test_labels)\n",
        "# YOUR CODE ENDS HERE\n",
        "\n"
      ],
      "execution_count": 2,
      "outputs": [
        {
          "output_type": "stream",
          "text": [
            "Epoch 1/20\n",
            "60000/60000 [==============================] - 55s 920us/sample - loss: 0.1451 - acc: 0.9571\n",
            "Epoch 2/20\n",
            "60000/60000 [==============================] - 55s 916us/sample - loss: 0.0497 - acc: 0.9847\n",
            "Epoch 3/20\n",
            "60000/60000 [==============================] - 55s 910us/sample - loss: 0.0315 - acc: 0.9903\n",
            "Epoch 4/20\n",
            "60000/60000 [==============================] - 55s 918us/sample - loss: 0.0215 - acc: 0.9933\n",
            "Epoch 5/20\n",
            "60000/60000 [==============================] - 54s 908us/sample - loss: 0.0145 - acc: 0.9955\n",
            "Epoch 6/20\n",
            "60000/60000 [==============================] - 54s 904us/sample - loss: 0.0099 - acc: 0.9969\n",
            "Epoch 7/20\n",
            "60000/60000 [==============================] - 54s 898us/sample - loss: 0.0069 - acc: 0.9977\n",
            "Epoch 8/20\n",
            "59936/60000 [============================>.] - ETA: 0s - loss: 0.0063 - acc: 0.9982\n",
            "Reached 99.8% accuracy so cancelling training!\n",
            "60000/60000 [==============================] - 54s 903us/sample - loss: 0.0063 - acc: 0.9982\n",
            "10000/10000 [==============================] - 3s 276us/sample - loss: 0.0572 - acc: 0.9844\n"
          ],
          "name": "stdout"
        },
        {
          "output_type": "execute_result",
          "data": {
            "text/plain": [
              "[0.057190487111575566, 0.9844]"
            ]
          },
          "metadata": {
            "tags": []
          },
          "execution_count": 2
        }
      ]
    }
  ]
}